{
 "cells": [
  {
   "cell_type": "code",
   "execution_count": 70,
   "id": "75609df1-8d72-46be-97e2-79a889e0c467",
   "metadata": {},
   "outputs": [],
   "source": [
    "from matplotlib import pyplot as plt  \n",
    "import numpy as np  \n",
    "import pandas as pd \n",
    "import rasterio \n",
    "import xarray as xr \n",
    "import rioxarray \n",
    "from sklearn import metrics\n",
    "from mesma.core import mesma, hard_classification "
   ]
  },
  {
   "cell_type": "code",
   "execution_count": 71,
   "id": "4e0fd5c9-b5f2-410d-a8fb-3cf50385a94f",
   "metadata": {},
   "outputs": [],
   "source": [
    "# read GAO image classification\n",
    "GAO_classification = rioxarray.open_rasterio(\"C:\\\\Users\\\\mkoenig3\\\\Dropbox (ASU)\\\\Backup\\\\Downloads\\\\2022_PHX\\\\SOL\\\\20221221_23EM\\\\GAO20220716t191531p0000_iacorn_refl_ort_sub_classification.tif\")\n",
    "\n",
    "# read simulated Tanager classification\n",
    "Tanager_classification = rioxarray.open_rasterio(\"C:\\\\Users\\\\mkoenig3\\\\Dropbox (ASU)\\\\Backup\\\\Downloads\\\\2022_PHX\\\\GAO\\\\GAO20220716t191531p0000\\\\GAO20220716t191531p0000_tanv1_iacorn_refl_ort_classification.tif\")"
   ]
  },
  {
   "cell_type": "code",
   "execution_count": 90,
   "id": "4b7d6002-859c-411f-80f5-e48a66ef3d2b",
   "metadata": {},
   "outputs": [],
   "source": [
    "# resample GAO_classification to simulated Tanager grid using 'mode'\n",
    "GAO_classification_resampled = GAO_classification.rio.reproject_match(match_data_array=Tanager_classification, \n",
    "                                                                      resampling = rasterio.enums.Resampling.mode)\n",
    "# Drop NoData pixels (-9999) from resampled data\n",
    "GAO_classification_resampled = GAO_classification_resampled.where(GAO_classification_resampled!=-9999, drop=True)\n",
    "\n",
    "# Crop simulated Tanager data to same extent\n",
    "Tanager_classification = Tanager_classification.where(GAO_classification_resampled!=-9999, drop=True)"
   ]
  },
  {
   "cell_type": "code",
   "execution_count": 117,
   "id": "07f9edb1-2483-4cfe-956e-f204b19999eb",
   "metadata": {},
   "outputs": [
    {
     "data": {
      "image/png": "[encoded data removed]",
      "text/plain": [
       "<Figure size 576x216 with 3 Axes>"
      ]
     },
     "metadata": {
      "needs_background": "light"
     },
     "output_type": "display_data"
    }
   ],
   "source": [
    "plt.figure(2, figsize=(8,3))\n",
    "plt.subplot(1, 2, 1)\n",
    "plt.imshow(GAO_classification_resampled[0], vmin=0, vmax=9)\n",
    "plt.title('GAO hard classification')\n",
    "plt.axis('off')\n",
    "plt.subplot(1, 2, 2)\n",
    "plt.imshow(Tanager_classification[0], vmin=0, vmax=9)\n",
    "plt.title('Simulated Tanager hard classification')\n",
    "plt.axis('off')\n",
    "plt.colorbar()\n",
    "plt.show()"
   ]
  },
  {
   "cell_type": "code",
   "execution_count": 94,
   "id": "213f7530-de45-45d5-9d9c-a6f516850512",
   "metadata": {},
   "outputs": [
    {
     "name": "stdout",
     "output_type": "stream",
     "text": [
      "              precision    recall  f1-score   support\n",
      "\n",
      "         0.0       0.67      0.47      0.55       177\n",
      "         2.0       0.52      0.66      0.58       200\n",
      "         3.0       0.00      0.00      0.00         3\n",
      "         4.0       0.42      0.17      0.25       179\n",
      "         5.0       0.02      0.25      0.04         4\n",
      "         6.0       0.27      0.49      0.35        45\n",
      "         8.0       0.69      0.81      0.74       175\n",
      "         9.0       0.00      0.00      0.00         1\n",
      "\n",
      "    accuracy                           0.52       784\n",
      "   macro avg       0.32      0.36      0.31       784\n",
      "weighted avg       0.55      0.52      0.51       784\n",
      "\n"
     ]
    },
    {
     "name": "stderr",
     "output_type": "stream",
     "text": [
      "C:\\Users\\mkoenig3\\Anaconda3\\envs\\CarbonMapper_py3713\\lib\\site-packages\\sklearn\\metrics\\_classification.py:1318: UndefinedMetricWarning: Precision and F-score are ill-defined and being set to 0.0 in labels with no predicted samples. Use `zero_division` parameter to control this behavior.\n",
      "  _warn_prf(average, modifier, msg_start, len(result))\n",
      "C:\\Users\\mkoenig3\\Anaconda3\\envs\\CarbonMapper_py3713\\lib\\site-packages\\sklearn\\metrics\\_classification.py:1318: UndefinedMetricWarning: Precision and F-score are ill-defined and being set to 0.0 in labels with no predicted samples. Use `zero_division` parameter to control this behavior.\n",
      "  _warn_prf(average, modifier, msg_start, len(result))\n",
      "C:\\Users\\mkoenig3\\Anaconda3\\envs\\CarbonMapper_py3713\\lib\\site-packages\\sklearn\\metrics\\_classification.py:1318: UndefinedMetricWarning: Precision and F-score are ill-defined and being set to 0.0 in labels with no predicted samples. Use `zero_division` parameter to control this behavior.\n",
      "  _warn_prf(average, modifier, msg_start, len(result))\n"
     ]
    }
   ],
   "source": [
    "print(metrics.classification_report(GAO_classification_resampled.data.ravel(), Tanager_classification.data.ravel(), ))"
   ]
  }
 ],
 "metadata": {
  "kernelspec": {
   "display_name": "Python 3 (ipykernel)",
   "language": "python",
   "name": "python3"
  },
  "language_info": {
   "codemirror_mode": {
    "name": "ipython",
    "version": 3
   },
   "file_extension": ".py",
   "mimetype": "text/x-python",
   "name": "python",
   "nbconvert_exporter": "python",
   "pygments_lexer": "ipython3",
   "version": "3.7.13"
  }
 },
 "nbformat": 4,
 "nbformat_minor": 5
}
